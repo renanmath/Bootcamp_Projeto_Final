{
  "nbformat": 4,
  "nbformat_minor": 0,
  "metadata": {
    "colab": {
      "name": "Bootcamp_Projeto_Final(GridSearch)",
      "provenance": [],
      "toc_visible": true
    },
    "kernelspec": {
      "name": "python3",
      "display_name": "Python 3"
    },
    "language_info": {
      "name": "python"
    }
  },
  "cells": [
    {
      "cell_type": "markdown",
      "metadata": {
        "id": "CjRC61e3Fs_l"
      },
      "source": [
        "# Bibliotecas"
      ]
    },
    {
      "cell_type": "code",
      "metadata": {
        "id": "uMvgWB2TQQLX"
      },
      "source": [
        "import pandas as pd\n",
        "import numpy as np\n",
        "import seaborn as sns\n",
        "import matplotlib as mpl\n",
        "from matplotlib import pyplot as plt\n",
        "import matplotlib.ticker as ticker\n",
        "import warnings\n",
        "import math\n",
        "import matplotlib.ticker as ticker\n",
        "warnings.filterwarnings('ignore') #ignora os avisos\n"
      ],
      "execution_count": null,
      "outputs": []
    },
    {
      "cell_type": "code",
      "metadata": {
        "id": "uxaFFS0JOeXJ"
      },
      "source": [
        "from sklearn.model_selection import train_test_split\n",
        "from sklearn.linear_model import LogisticRegression\n",
        "from sklearn.linear_model import LogisticRegressionCV\n",
        "from sklearn.tree import DecisionTreeClassifier\n",
        "from sklearn.ensemble import RandomForestClassifier\n",
        "from lightgbm import LGBMClassifier\n",
        "from xgboost import XGBClassifier\n",
        "from sklearn.ensemble import GradientBoostingClassifier\n",
        "from sklearn.neighbors import KNeighborsClassifier\n",
        "from sklearn.neural_network import MLPClassifier\n",
        "from sklearn.svm import SVC\n",
        "from sklearn.metrics import confusion_matrix\n",
        "from sklearn.metrics import classification_report\n",
        "from sklearn.metrics import plot_confusion_matrix\n",
        "from sklearn.model_selection import GridSearchCV\n",
        "from sklearn import tree "
      ],
      "execution_count": null,
      "outputs": []
    },
    {
      "cell_type": "code",
      "metadata": {
        "id": "2oXxPRyeTgZH"
      },
      "source": [
        "from sklearn.model_selection import RepeatedStratifiedKFold\n",
        "from sklearn.model_selection import cross_validate\n",
        "from sklearn.metrics import plot_roc_curve"
      ],
      "execution_count": null,
      "outputs": []
    },
    {
      "cell_type": "markdown",
      "metadata": {
        "id": "-k3UD93Zf6Qn"
      },
      "source": [
        "# Importação dos dados"
      ]
    },
    {
      "cell_type": "code",
      "metadata": {
        "id": "mQSmdrRlMauA"
      },
      "source": [
        "url = 'https://raw.githubusercontent.com/renanmath/Bootcamp_Projeto_Final/main/Dados/dados_resumidos_UTI'"
      ],
      "execution_count": null,
      "outputs": []
    },
    {
      "cell_type": "code",
      "metadata": {
        "colab": {
          "base_uri": "https://localhost:8080/"
        },
        "id": "gqwdI27DMehT",
        "outputId": "263059f7-0f35-4bbc-81fa-bad7898686bb"
      },
      "source": [
        "dados_resumidos = pd.read_csv(url)\n",
        "dados_resumidos.head()"
      ],
      "execution_count": null,
      "outputs": [
        {
          "output_type": "execute_result",
          "data": {
            "text/html": [
              "<div>\n",
              "<style scoped>\n",
              "    .dataframe tbody tr th:only-of-type {\n",
              "        vertical-align: middle;\n",
              "    }\n",
              "\n",
              "    .dataframe tbody tr th {\n",
              "        vertical-align: top;\n",
              "    }\n",
              "\n",
              "    .dataframe thead th {\n",
              "        text-align: right;\n",
              "    }\n",
              "</style>\n",
              "<table border=\"1\" class=\"dataframe\">\n",
              "  <thead>\n",
              "    <tr style=\"text-align: right;\">\n",
              "      <th></th>\n",
              "      <th>PATIENT_VISIT_IDENTIFIER</th>\n",
              "      <th>AGE_ABOVE65</th>\n",
              "      <th>AGE_PERCENTIL</th>\n",
              "      <th>GENDER</th>\n",
              "      <th>DISEASE GROUPING 1</th>\n",
              "      <th>DISEASE GROUPING 2</th>\n",
              "      <th>DISEASE GROUPING 3</th>\n",
              "      <th>DISEASE GROUPING 4</th>\n",
              "      <th>DISEASE GROUPING 5</th>\n",
              "      <th>DISEASE GROUPING 6</th>\n",
              "      <th>HTN</th>\n",
              "      <th>IMMUNOCOMPROMISED</th>\n",
              "      <th>OTHER</th>\n",
              "      <th>BIC_VENOUS_MEDIAN</th>\n",
              "      <th>BIC_VENOUS_MEAN</th>\n",
              "      <th>BIC_VENOUS_MIN</th>\n",
              "      <th>BIC_VENOUS_MAX</th>\n",
              "      <th>CALCIUM_MEDIAN</th>\n",
              "      <th>CALCIUM_MEAN</th>\n",
              "      <th>CALCIUM_MIN</th>\n",
              "      <th>CALCIUM_MAX</th>\n",
              "      <th>GLUCOSE_MEDIAN</th>\n",
              "      <th>GLUCOSE_MEAN</th>\n",
              "      <th>GLUCOSE_MIN</th>\n",
              "      <th>GLUCOSE_MAX</th>\n",
              "      <th>HEMATOCRITE_MEDIAN</th>\n",
              "      <th>HEMATOCRITE_MEAN</th>\n",
              "      <th>HEMATOCRITE_MIN</th>\n",
              "      <th>HEMATOCRITE_MAX</th>\n",
              "      <th>HEMOGLOBIN_MEDIAN</th>\n",
              "      <th>HEMOGLOBIN_MEAN</th>\n",
              "      <th>HEMOGLOBIN_MIN</th>\n",
              "      <th>HEMOGLOBIN_MAX</th>\n",
              "      <th>LACTATE_MEDIAN</th>\n",
              "      <th>LACTATE_MEAN</th>\n",
              "      <th>LACTATE_MIN</th>\n",
              "      <th>LACTATE_MAX</th>\n",
              "      <th>LEUKOCYTES_MEDIAN</th>\n",
              "      <th>LEUKOCYTES_MEAN</th>\n",
              "      <th>LEUKOCYTES_MIN</th>\n",
              "      <th>...</th>\n",
              "      <th>POTASSIUM_MEAN</th>\n",
              "      <th>POTASSIUM_MIN</th>\n",
              "      <th>POTASSIUM_MAX</th>\n",
              "      <th>SAT02_VENOUS_MEDIAN</th>\n",
              "      <th>SAT02_VENOUS_MEAN</th>\n",
              "      <th>SAT02_VENOUS_MIN</th>\n",
              "      <th>SAT02_VENOUS_MAX</th>\n",
              "      <th>SODIUM_MEDIAN</th>\n",
              "      <th>SODIUM_MEAN</th>\n",
              "      <th>SODIUM_MIN</th>\n",
              "      <th>SODIUM_MAX</th>\n",
              "      <th>UREA_MEDIAN</th>\n",
              "      <th>UREA_MEAN</th>\n",
              "      <th>UREA_MIN</th>\n",
              "      <th>UREA_MAX</th>\n",
              "      <th>BLOODPRESSURE_DIASTOLIC_MEAN</th>\n",
              "      <th>BLOODPRESSURE_SISTOLIC_MEAN</th>\n",
              "      <th>HEART_RATE_MEAN</th>\n",
              "      <th>RESPIRATORY_RATE_MEAN</th>\n",
              "      <th>TEMPERATURE_MEAN</th>\n",
              "      <th>OXYGEN_SATURATION_MEAN</th>\n",
              "      <th>BLOODPRESSURE_DIASTOLIC_MEDIAN</th>\n",
              "      <th>BLOODPRESSURE_SISTOLIC_MEDIAN</th>\n",
              "      <th>HEART_RATE_MEDIAN</th>\n",
              "      <th>RESPIRATORY_RATE_MEDIAN</th>\n",
              "      <th>TEMPERATURE_MEDIAN</th>\n",
              "      <th>OXYGEN_SATURATION_MEDIAN</th>\n",
              "      <th>BLOODPRESSURE_DIASTOLIC_MIN</th>\n",
              "      <th>BLOODPRESSURE_SISTOLIC_MIN</th>\n",
              "      <th>HEART_RATE_MIN</th>\n",
              "      <th>RESPIRATORY_RATE_MIN</th>\n",
              "      <th>TEMPERATURE_MIN</th>\n",
              "      <th>BLOODPRESSURE_DIASTOLIC_MAX</th>\n",
              "      <th>BLOODPRESSURE_SISTOLIC_MAX</th>\n",
              "      <th>HEART_RATE_MAX</th>\n",
              "      <th>RESPIRATORY_RATE_MAX</th>\n",
              "      <th>TEMPERATURE_MAX</th>\n",
              "      <th>OXYGEN_SATURATION_MAX</th>\n",
              "      <th>WINDOW</th>\n",
              "      <th>ICU</th>\n",
              "    </tr>\n",
              "  </thead>\n",
              "  <tbody>\n",
              "    <tr>\n",
              "      <th>0</th>\n",
              "      <td>0</td>\n",
              "      <td>1</td>\n",
              "      <td>0.6</td>\n",
              "      <td>0</td>\n",
              "      <td>0.0</td>\n",
              "      <td>0.0</td>\n",
              "      <td>0.0</td>\n",
              "      <td>0.0</td>\n",
              "      <td>1.0</td>\n",
              "      <td>1.0</td>\n",
              "      <td>0.0</td>\n",
              "      <td>0.0</td>\n",
              "      <td>1.0</td>\n",
              "      <td>-0.317073</td>\n",
              "      <td>-0.317073</td>\n",
              "      <td>-0.317073</td>\n",
              "      <td>-0.317073</td>\n",
              "      <td>0.183673</td>\n",
              "      <td>0.183673</td>\n",
              "      <td>0.183673</td>\n",
              "      <td>0.183673</td>\n",
              "      <td>-0.891993</td>\n",
              "      <td>-0.891993</td>\n",
              "      <td>-0.891993</td>\n",
              "      <td>-0.891993</td>\n",
              "      <td>0.090147</td>\n",
              "      <td>0.090147</td>\n",
              "      <td>0.090147</td>\n",
              "      <td>0.090147</td>\n",
              "      <td>0.109756</td>\n",
              "      <td>0.109756</td>\n",
              "      <td>0.109756</td>\n",
              "      <td>0.109756</td>\n",
              "      <td>1.000000</td>\n",
              "      <td>1.000000</td>\n",
              "      <td>1.000000</td>\n",
              "      <td>1.000000</td>\n",
              "      <td>-0.835844</td>\n",
              "      <td>-0.835844</td>\n",
              "      <td>-0.835844</td>\n",
              "      <td>...</td>\n",
              "      <td>-0.518519</td>\n",
              "      <td>-0.518519</td>\n",
              "      <td>-0.518519</td>\n",
              "      <td>0.345679</td>\n",
              "      <td>0.345679</td>\n",
              "      <td>0.345679</td>\n",
              "      <td>0.345679</td>\n",
              "      <td>-0.028571</td>\n",
              "      <td>-0.028571</td>\n",
              "      <td>-0.028571</td>\n",
              "      <td>-0.028571</td>\n",
              "      <td>-0.836145</td>\n",
              "      <td>-0.836145</td>\n",
              "      <td>-0.836145</td>\n",
              "      <td>-0.836145</td>\n",
              "      <td>0.086420</td>\n",
              "      <td>-0.230769</td>\n",
              "      <td>-0.283019</td>\n",
              "      <td>-0.593220</td>\n",
              "      <td>-0.285714</td>\n",
              "      <td>0.736842</td>\n",
              "      <td>0.086420</td>\n",
              "      <td>-0.230769</td>\n",
              "      <td>-0.283019</td>\n",
              "      <td>-0.586207</td>\n",
              "      <td>-0.285714</td>\n",
              "      <td>0.736842</td>\n",
              "      <td>0.237113</td>\n",
              "      <td>0.0000</td>\n",
              "      <td>-0.162393</td>\n",
              "      <td>-0.500000</td>\n",
              "      <td>0.208791</td>\n",
              "      <td>-0.247863</td>\n",
              "      <td>-0.459459</td>\n",
              "      <td>-0.432836</td>\n",
              "      <td>-0.636364</td>\n",
              "      <td>-0.420290</td>\n",
              "      <td>0.736842</td>\n",
              "      <td>0-2</td>\n",
              "      <td>1</td>\n",
              "    </tr>\n",
              "    <tr>\n",
              "      <th>2</th>\n",
              "      <td>2</td>\n",
              "      <td>0</td>\n",
              "      <td>0.1</td>\n",
              "      <td>0</td>\n",
              "      <td>0.0</td>\n",
              "      <td>0.0</td>\n",
              "      <td>0.0</td>\n",
              "      <td>0.0</td>\n",
              "      <td>0.0</td>\n",
              "      <td>0.0</td>\n",
              "      <td>0.0</td>\n",
              "      <td>0.0</td>\n",
              "      <td>1.0</td>\n",
              "      <td>-0.317073</td>\n",
              "      <td>-0.317073</td>\n",
              "      <td>-0.317073</td>\n",
              "      <td>-0.317073</td>\n",
              "      <td>0.357143</td>\n",
              "      <td>0.357143</td>\n",
              "      <td>0.357143</td>\n",
              "      <td>0.357143</td>\n",
              "      <td>-0.780261</td>\n",
              "      <td>-0.780261</td>\n",
              "      <td>-0.780261</td>\n",
              "      <td>-0.780261</td>\n",
              "      <td>0.144654</td>\n",
              "      <td>0.144654</td>\n",
              "      <td>0.144654</td>\n",
              "      <td>0.144654</td>\n",
              "      <td>0.158537</td>\n",
              "      <td>0.158537</td>\n",
              "      <td>0.158537</td>\n",
              "      <td>0.158537</td>\n",
              "      <td>1.000000</td>\n",
              "      <td>1.000000</td>\n",
              "      <td>1.000000</td>\n",
              "      <td>1.000000</td>\n",
              "      <td>-0.382773</td>\n",
              "      <td>-0.382773</td>\n",
              "      <td>-0.382773</td>\n",
              "      <td>...</td>\n",
              "      <td>-0.703704</td>\n",
              "      <td>-0.703704</td>\n",
              "      <td>-0.703704</td>\n",
              "      <td>0.345679</td>\n",
              "      <td>0.345679</td>\n",
              "      <td>0.345679</td>\n",
              "      <td>0.345679</td>\n",
              "      <td>0.085714</td>\n",
              "      <td>0.085714</td>\n",
              "      <td>0.085714</td>\n",
              "      <td>0.085714</td>\n",
              "      <td>-0.836145</td>\n",
              "      <td>-0.836145</td>\n",
              "      <td>-0.836145</td>\n",
              "      <td>-0.836145</td>\n",
              "      <td>-0.489712</td>\n",
              "      <td>-0.685470</td>\n",
              "      <td>-0.048218</td>\n",
              "      <td>-0.645951</td>\n",
              "      <td>0.357143</td>\n",
              "      <td>0.935673</td>\n",
              "      <td>-0.506173</td>\n",
              "      <td>-0.815385</td>\n",
              "      <td>-0.056604</td>\n",
              "      <td>-0.517241</td>\n",
              "      <td>0.357143</td>\n",
              "      <td>0.947368</td>\n",
              "      <td>-0.525773</td>\n",
              "      <td>-0.5125</td>\n",
              "      <td>-0.111111</td>\n",
              "      <td>-0.714286</td>\n",
              "      <td>0.604396</td>\n",
              "      <td>-0.435897</td>\n",
              "      <td>-0.491892</td>\n",
              "      <td>0.000000</td>\n",
              "      <td>-0.575758</td>\n",
              "      <td>0.101449</td>\n",
              "      <td>1.000000</td>\n",
              "      <td>0-2</td>\n",
              "      <td>1</td>\n",
              "    </tr>\n",
              "    <tr>\n",
              "      <th>3</th>\n",
              "      <td>3</td>\n",
              "      <td>0</td>\n",
              "      <td>0.4</td>\n",
              "      <td>1</td>\n",
              "      <td>0.0</td>\n",
              "      <td>0.0</td>\n",
              "      <td>0.0</td>\n",
              "      <td>0.0</td>\n",
              "      <td>0.0</td>\n",
              "      <td>0.0</td>\n",
              "      <td>0.0</td>\n",
              "      <td>1.0</td>\n",
              "      <td>1.0</td>\n",
              "      <td>-0.317073</td>\n",
              "      <td>-0.317073</td>\n",
              "      <td>-0.317073</td>\n",
              "      <td>-0.317073</td>\n",
              "      <td>0.326531</td>\n",
              "      <td>0.326531</td>\n",
              "      <td>0.326531</td>\n",
              "      <td>0.326531</td>\n",
              "      <td>-0.891993</td>\n",
              "      <td>-0.891993</td>\n",
              "      <td>-0.891993</td>\n",
              "      <td>-0.891993</td>\n",
              "      <td>-0.203354</td>\n",
              "      <td>-0.203354</td>\n",
              "      <td>-0.203354</td>\n",
              "      <td>-0.203354</td>\n",
              "      <td>-0.219512</td>\n",
              "      <td>-0.219512</td>\n",
              "      <td>-0.219512</td>\n",
              "      <td>-0.219512</td>\n",
              "      <td>-0.828421</td>\n",
              "      <td>-0.828421</td>\n",
              "      <td>-0.828421</td>\n",
              "      <td>-0.828421</td>\n",
              "      <td>-0.729239</td>\n",
              "      <td>-0.729239</td>\n",
              "      <td>-0.729239</td>\n",
              "      <td>...</td>\n",
              "      <td>-0.777778</td>\n",
              "      <td>-0.777778</td>\n",
              "      <td>-0.777778</td>\n",
              "      <td>0.580247</td>\n",
              "      <td>0.580247</td>\n",
              "      <td>0.580247</td>\n",
              "      <td>0.580247</td>\n",
              "      <td>0.200000</td>\n",
              "      <td>0.200000</td>\n",
              "      <td>0.200000</td>\n",
              "      <td>0.200000</td>\n",
              "      <td>-0.937349</td>\n",
              "      <td>-0.937349</td>\n",
              "      <td>-0.937349</td>\n",
              "      <td>-0.937349</td>\n",
              "      <td>0.012346</td>\n",
              "      <td>-0.369231</td>\n",
              "      <td>-0.528302</td>\n",
              "      <td>-0.457627</td>\n",
              "      <td>-0.285714</td>\n",
              "      <td>0.684211</td>\n",
              "      <td>0.012346</td>\n",
              "      <td>-0.369231</td>\n",
              "      <td>-0.528302</td>\n",
              "      <td>-0.448276</td>\n",
              "      <td>-0.285714</td>\n",
              "      <td>0.684211</td>\n",
              "      <td>0.175258</td>\n",
              "      <td>-0.1125</td>\n",
              "      <td>-0.384615</td>\n",
              "      <td>-0.357143</td>\n",
              "      <td>0.208791</td>\n",
              "      <td>-0.299145</td>\n",
              "      <td>-0.556757</td>\n",
              "      <td>-0.626866</td>\n",
              "      <td>-0.515152</td>\n",
              "      <td>-0.420290</td>\n",
              "      <td>0.684211</td>\n",
              "      <td>0-2</td>\n",
              "      <td>0</td>\n",
              "    </tr>\n",
              "    <tr>\n",
              "      <th>4</th>\n",
              "      <td>4</td>\n",
              "      <td>0</td>\n",
              "      <td>0.1</td>\n",
              "      <td>0</td>\n",
              "      <td>0.0</td>\n",
              "      <td>0.0</td>\n",
              "      <td>0.0</td>\n",
              "      <td>0.0</td>\n",
              "      <td>0.0</td>\n",
              "      <td>0.0</td>\n",
              "      <td>0.0</td>\n",
              "      <td>0.0</td>\n",
              "      <td>1.0</td>\n",
              "      <td>-0.317073</td>\n",
              "      <td>-0.317073</td>\n",
              "      <td>-0.317073</td>\n",
              "      <td>-0.317073</td>\n",
              "      <td>0.357143</td>\n",
              "      <td>0.357143</td>\n",
              "      <td>0.357143</td>\n",
              "      <td>0.357143</td>\n",
              "      <td>-0.851024</td>\n",
              "      <td>-0.851024</td>\n",
              "      <td>-0.851024</td>\n",
              "      <td>-0.851024</td>\n",
              "      <td>0.358491</td>\n",
              "      <td>0.358491</td>\n",
              "      <td>0.358491</td>\n",
              "      <td>0.358491</td>\n",
              "      <td>0.304878</td>\n",
              "      <td>0.304878</td>\n",
              "      <td>0.304878</td>\n",
              "      <td>0.304878</td>\n",
              "      <td>1.000000</td>\n",
              "      <td>1.000000</td>\n",
              "      <td>1.000000</td>\n",
              "      <td>1.000000</td>\n",
              "      <td>-0.702202</td>\n",
              "      <td>-0.702202</td>\n",
              "      <td>-0.702202</td>\n",
              "      <td>...</td>\n",
              "      <td>-0.592593</td>\n",
              "      <td>-0.592593</td>\n",
              "      <td>-0.592593</td>\n",
              "      <td>0.345679</td>\n",
              "      <td>0.345679</td>\n",
              "      <td>0.345679</td>\n",
              "      <td>0.345679</td>\n",
              "      <td>0.142857</td>\n",
              "      <td>0.142857</td>\n",
              "      <td>0.142857</td>\n",
              "      <td>0.142857</td>\n",
              "      <td>-0.903614</td>\n",
              "      <td>-0.903614</td>\n",
              "      <td>-0.903614</td>\n",
              "      <td>-0.903614</td>\n",
              "      <td>0.333333</td>\n",
              "      <td>-0.153846</td>\n",
              "      <td>0.160377</td>\n",
              "      <td>-0.593220</td>\n",
              "      <td>0.285714</td>\n",
              "      <td>0.868421</td>\n",
              "      <td>0.333333</td>\n",
              "      <td>-0.153846</td>\n",
              "      <td>0.160377</td>\n",
              "      <td>-0.586207</td>\n",
              "      <td>0.285714</td>\n",
              "      <td>0.868421</td>\n",
              "      <td>0.443299</td>\n",
              "      <td>0.0000</td>\n",
              "      <td>0.196581</td>\n",
              "      <td>-0.571429</td>\n",
              "      <td>0.538462</td>\n",
              "      <td>-0.076923</td>\n",
              "      <td>-0.351351</td>\n",
              "      <td>-0.044776</td>\n",
              "      <td>-0.575758</td>\n",
              "      <td>0.072464</td>\n",
              "      <td>0.894737</td>\n",
              "      <td>0-2</td>\n",
              "      <td>0</td>\n",
              "    </tr>\n",
              "    <tr>\n",
              "      <th>5</th>\n",
              "      <td>5</td>\n",
              "      <td>0</td>\n",
              "      <td>0.1</td>\n",
              "      <td>0</td>\n",
              "      <td>0.0</td>\n",
              "      <td>0.0</td>\n",
              "      <td>0.0</td>\n",
              "      <td>0.0</td>\n",
              "      <td>0.0</td>\n",
              "      <td>0.0</td>\n",
              "      <td>0.0</td>\n",
              "      <td>0.0</td>\n",
              "      <td>1.0</td>\n",
              "      <td>-0.317073</td>\n",
              "      <td>-0.317073</td>\n",
              "      <td>-0.317073</td>\n",
              "      <td>-0.317073</td>\n",
              "      <td>0.357143</td>\n",
              "      <td>0.357143</td>\n",
              "      <td>0.357143</td>\n",
              "      <td>0.357143</td>\n",
              "      <td>-0.891993</td>\n",
              "      <td>-0.891993</td>\n",
              "      <td>-0.891993</td>\n",
              "      <td>-0.891993</td>\n",
              "      <td>0.291405</td>\n",
              "      <td>0.291405</td>\n",
              "      <td>0.291405</td>\n",
              "      <td>0.291405</td>\n",
              "      <td>0.243902</td>\n",
              "      <td>0.243902</td>\n",
              "      <td>0.243902</td>\n",
              "      <td>0.243902</td>\n",
              "      <td>1.000000</td>\n",
              "      <td>1.000000</td>\n",
              "      <td>1.000000</td>\n",
              "      <td>1.000000</td>\n",
              "      <td>-0.706450</td>\n",
              "      <td>-0.706450</td>\n",
              "      <td>-0.706450</td>\n",
              "      <td>...</td>\n",
              "      <td>-0.666667</td>\n",
              "      <td>-0.666667</td>\n",
              "      <td>-0.666667</td>\n",
              "      <td>0.345679</td>\n",
              "      <td>0.345679</td>\n",
              "      <td>0.345679</td>\n",
              "      <td>0.345679</td>\n",
              "      <td>0.085714</td>\n",
              "      <td>0.085714</td>\n",
              "      <td>0.085714</td>\n",
              "      <td>0.085714</td>\n",
              "      <td>-0.884337</td>\n",
              "      <td>-0.884337</td>\n",
              "      <td>-0.884337</td>\n",
              "      <td>-0.884337</td>\n",
              "      <td>-0.037037</td>\n",
              "      <td>-0.538462</td>\n",
              "      <td>-0.537736</td>\n",
              "      <td>-0.525424</td>\n",
              "      <td>-0.196429</td>\n",
              "      <td>0.815789</td>\n",
              "      <td>-0.037037</td>\n",
              "      <td>-0.538462</td>\n",
              "      <td>-0.537736</td>\n",
              "      <td>-0.517241</td>\n",
              "      <td>-0.196429</td>\n",
              "      <td>0.815789</td>\n",
              "      <td>0.030928</td>\n",
              "      <td>-0.3750</td>\n",
              "      <td>-0.401709</td>\n",
              "      <td>-0.428571</td>\n",
              "      <td>0.252747</td>\n",
              "      <td>-0.247863</td>\n",
              "      <td>-0.567568</td>\n",
              "      <td>-0.626866</td>\n",
              "      <td>-0.575758</td>\n",
              "      <td>-0.333333</td>\n",
              "      <td>0.842105</td>\n",
              "      <td>0-2</td>\n",
              "      <td>0</td>\n",
              "    </tr>\n",
              "  </tbody>\n",
              "</table>\n",
              "<p>5 rows × 106 columns</p>\n",
              "</div>"
            ],
            "text/plain": [
              "   PATIENT_VISIT_IDENTIFIER  AGE_ABOVE65  ...  WINDOW  ICU\n",
              "0                         0            1  ...     0-2    1\n",
              "2                         2            0  ...     0-2    1\n",
              "3                         3            0  ...     0-2    0\n",
              "4                         4            0  ...     0-2    0\n",
              "5                         5            0  ...     0-2    0\n",
              "\n",
              "[5 rows x 106 columns]"
            ]
          },
          "metadata": {},
          "execution_count": 5
        }
      ]
    },
    {
      "cell_type": "code",
      "metadata": {
        "colab": {
          "base_uri": "https://localhost:8080/"
        },
        "id": "DOki9xTMQCRJ",
        "outputId": "5fb45e1a-e788-484f-9439-85f5ec9db93b"
      },
      "source": [
        "dados_limpos = dados_resumidos.drop(['PATIENT_VISIT_IDENTIFIER', 'WINDOW', 'AGE_ABOVE65', 'GENDER'], axis = 1)\n",
        "dados_limpos.head()"
      ],
      "execution_count": null,
      "outputs": [
        {
          "output_type": "execute_result",
          "data": {
            "text/html": [
              "<div>\n",
              "<style scoped>\n",
              "    .dataframe tbody tr th:only-of-type {\n",
              "        vertical-align: middle;\n",
              "    }\n",
              "\n",
              "    .dataframe tbody tr th {\n",
              "        vertical-align: top;\n",
              "    }\n",
              "\n",
              "    .dataframe thead th {\n",
              "        text-align: right;\n",
              "    }\n",
              "</style>\n",
              "<table border=\"1\" class=\"dataframe\">\n",
              "  <thead>\n",
              "    <tr style=\"text-align: right;\">\n",
              "      <th></th>\n",
              "      <th>AGE_PERCENTIL</th>\n",
              "      <th>DISEASE GROUPING 1</th>\n",
              "      <th>DISEASE GROUPING 2</th>\n",
              "      <th>DISEASE GROUPING 3</th>\n",
              "      <th>DISEASE GROUPING 4</th>\n",
              "      <th>DISEASE GROUPING 5</th>\n",
              "      <th>DISEASE GROUPING 6</th>\n",
              "      <th>HTN</th>\n",
              "      <th>IMMUNOCOMPROMISED</th>\n",
              "      <th>OTHER</th>\n",
              "      <th>BIC_VENOUS_MEDIAN</th>\n",
              "      <th>BIC_VENOUS_MEAN</th>\n",
              "      <th>BIC_VENOUS_MIN</th>\n",
              "      <th>BIC_VENOUS_MAX</th>\n",
              "      <th>CALCIUM_MEDIAN</th>\n",
              "      <th>CALCIUM_MEAN</th>\n",
              "      <th>CALCIUM_MIN</th>\n",
              "      <th>CALCIUM_MAX</th>\n",
              "      <th>GLUCOSE_MEDIAN</th>\n",
              "      <th>GLUCOSE_MEAN</th>\n",
              "      <th>GLUCOSE_MIN</th>\n",
              "      <th>GLUCOSE_MAX</th>\n",
              "      <th>HEMATOCRITE_MEDIAN</th>\n",
              "      <th>HEMATOCRITE_MEAN</th>\n",
              "      <th>HEMATOCRITE_MIN</th>\n",
              "      <th>HEMATOCRITE_MAX</th>\n",
              "      <th>HEMOGLOBIN_MEDIAN</th>\n",
              "      <th>HEMOGLOBIN_MEAN</th>\n",
              "      <th>HEMOGLOBIN_MIN</th>\n",
              "      <th>HEMOGLOBIN_MAX</th>\n",
              "      <th>LACTATE_MEDIAN</th>\n",
              "      <th>LACTATE_MEAN</th>\n",
              "      <th>LACTATE_MIN</th>\n",
              "      <th>LACTATE_MAX</th>\n",
              "      <th>LEUKOCYTES_MEDIAN</th>\n",
              "      <th>LEUKOCYTES_MEAN</th>\n",
              "      <th>LEUKOCYTES_MIN</th>\n",
              "      <th>LEUKOCYTES_MAX</th>\n",
              "      <th>LINFOCITOS_MEDIAN</th>\n",
              "      <th>LINFOCITOS_MEAN</th>\n",
              "      <th>...</th>\n",
              "      <th>POTASSIUM_MEDIAN</th>\n",
              "      <th>POTASSIUM_MEAN</th>\n",
              "      <th>POTASSIUM_MIN</th>\n",
              "      <th>POTASSIUM_MAX</th>\n",
              "      <th>SAT02_VENOUS_MEDIAN</th>\n",
              "      <th>SAT02_VENOUS_MEAN</th>\n",
              "      <th>SAT02_VENOUS_MIN</th>\n",
              "      <th>SAT02_VENOUS_MAX</th>\n",
              "      <th>SODIUM_MEDIAN</th>\n",
              "      <th>SODIUM_MEAN</th>\n",
              "      <th>SODIUM_MIN</th>\n",
              "      <th>SODIUM_MAX</th>\n",
              "      <th>UREA_MEDIAN</th>\n",
              "      <th>UREA_MEAN</th>\n",
              "      <th>UREA_MIN</th>\n",
              "      <th>UREA_MAX</th>\n",
              "      <th>BLOODPRESSURE_DIASTOLIC_MEAN</th>\n",
              "      <th>BLOODPRESSURE_SISTOLIC_MEAN</th>\n",
              "      <th>HEART_RATE_MEAN</th>\n",
              "      <th>RESPIRATORY_RATE_MEAN</th>\n",
              "      <th>TEMPERATURE_MEAN</th>\n",
              "      <th>OXYGEN_SATURATION_MEAN</th>\n",
              "      <th>BLOODPRESSURE_DIASTOLIC_MEDIAN</th>\n",
              "      <th>BLOODPRESSURE_SISTOLIC_MEDIAN</th>\n",
              "      <th>HEART_RATE_MEDIAN</th>\n",
              "      <th>RESPIRATORY_RATE_MEDIAN</th>\n",
              "      <th>TEMPERATURE_MEDIAN</th>\n",
              "      <th>OXYGEN_SATURATION_MEDIAN</th>\n",
              "      <th>BLOODPRESSURE_DIASTOLIC_MIN</th>\n",
              "      <th>BLOODPRESSURE_SISTOLIC_MIN</th>\n",
              "      <th>HEART_RATE_MIN</th>\n",
              "      <th>RESPIRATORY_RATE_MIN</th>\n",
              "      <th>TEMPERATURE_MIN</th>\n",
              "      <th>BLOODPRESSURE_DIASTOLIC_MAX</th>\n",
              "      <th>BLOODPRESSURE_SISTOLIC_MAX</th>\n",
              "      <th>HEART_RATE_MAX</th>\n",
              "      <th>RESPIRATORY_RATE_MAX</th>\n",
              "      <th>TEMPERATURE_MAX</th>\n",
              "      <th>OXYGEN_SATURATION_MAX</th>\n",
              "      <th>ICU</th>\n",
              "    </tr>\n",
              "  </thead>\n",
              "  <tbody>\n",
              "    <tr>\n",
              "      <th>0</th>\n",
              "      <td>0.6</td>\n",
              "      <td>0.0</td>\n",
              "      <td>0.0</td>\n",
              "      <td>0.0</td>\n",
              "      <td>0.0</td>\n",
              "      <td>1.0</td>\n",
              "      <td>1.0</td>\n",
              "      <td>0.0</td>\n",
              "      <td>0.0</td>\n",
              "      <td>1.0</td>\n",
              "      <td>-0.317073</td>\n",
              "      <td>-0.317073</td>\n",
              "      <td>-0.317073</td>\n",
              "      <td>-0.317073</td>\n",
              "      <td>0.183673</td>\n",
              "      <td>0.183673</td>\n",
              "      <td>0.183673</td>\n",
              "      <td>0.183673</td>\n",
              "      <td>-0.891993</td>\n",
              "      <td>-0.891993</td>\n",
              "      <td>-0.891993</td>\n",
              "      <td>-0.891993</td>\n",
              "      <td>0.090147</td>\n",
              "      <td>0.090147</td>\n",
              "      <td>0.090147</td>\n",
              "      <td>0.090147</td>\n",
              "      <td>0.109756</td>\n",
              "      <td>0.109756</td>\n",
              "      <td>0.109756</td>\n",
              "      <td>0.109756</td>\n",
              "      <td>1.000000</td>\n",
              "      <td>1.000000</td>\n",
              "      <td>1.000000</td>\n",
              "      <td>1.000000</td>\n",
              "      <td>-0.835844</td>\n",
              "      <td>-0.835844</td>\n",
              "      <td>-0.835844</td>\n",
              "      <td>-0.835844</td>\n",
              "      <td>-0.914938</td>\n",
              "      <td>-0.914938</td>\n",
              "      <td>...</td>\n",
              "      <td>-0.518519</td>\n",
              "      <td>-0.518519</td>\n",
              "      <td>-0.518519</td>\n",
              "      <td>-0.518519</td>\n",
              "      <td>0.345679</td>\n",
              "      <td>0.345679</td>\n",
              "      <td>0.345679</td>\n",
              "      <td>0.345679</td>\n",
              "      <td>-0.028571</td>\n",
              "      <td>-0.028571</td>\n",
              "      <td>-0.028571</td>\n",
              "      <td>-0.028571</td>\n",
              "      <td>-0.836145</td>\n",
              "      <td>-0.836145</td>\n",
              "      <td>-0.836145</td>\n",
              "      <td>-0.836145</td>\n",
              "      <td>0.086420</td>\n",
              "      <td>-0.230769</td>\n",
              "      <td>-0.283019</td>\n",
              "      <td>-0.593220</td>\n",
              "      <td>-0.285714</td>\n",
              "      <td>0.736842</td>\n",
              "      <td>0.086420</td>\n",
              "      <td>-0.230769</td>\n",
              "      <td>-0.283019</td>\n",
              "      <td>-0.586207</td>\n",
              "      <td>-0.285714</td>\n",
              "      <td>0.736842</td>\n",
              "      <td>0.237113</td>\n",
              "      <td>0.0000</td>\n",
              "      <td>-0.162393</td>\n",
              "      <td>-0.500000</td>\n",
              "      <td>0.208791</td>\n",
              "      <td>-0.247863</td>\n",
              "      <td>-0.459459</td>\n",
              "      <td>-0.432836</td>\n",
              "      <td>-0.636364</td>\n",
              "      <td>-0.420290</td>\n",
              "      <td>0.736842</td>\n",
              "      <td>1</td>\n",
              "    </tr>\n",
              "    <tr>\n",
              "      <th>2</th>\n",
              "      <td>0.1</td>\n",
              "      <td>0.0</td>\n",
              "      <td>0.0</td>\n",
              "      <td>0.0</td>\n",
              "      <td>0.0</td>\n",
              "      <td>0.0</td>\n",
              "      <td>0.0</td>\n",
              "      <td>0.0</td>\n",
              "      <td>0.0</td>\n",
              "      <td>1.0</td>\n",
              "      <td>-0.317073</td>\n",
              "      <td>-0.317073</td>\n",
              "      <td>-0.317073</td>\n",
              "      <td>-0.317073</td>\n",
              "      <td>0.357143</td>\n",
              "      <td>0.357143</td>\n",
              "      <td>0.357143</td>\n",
              "      <td>0.357143</td>\n",
              "      <td>-0.780261</td>\n",
              "      <td>-0.780261</td>\n",
              "      <td>-0.780261</td>\n",
              "      <td>-0.780261</td>\n",
              "      <td>0.144654</td>\n",
              "      <td>0.144654</td>\n",
              "      <td>0.144654</td>\n",
              "      <td>0.144654</td>\n",
              "      <td>0.158537</td>\n",
              "      <td>0.158537</td>\n",
              "      <td>0.158537</td>\n",
              "      <td>0.158537</td>\n",
              "      <td>1.000000</td>\n",
              "      <td>1.000000</td>\n",
              "      <td>1.000000</td>\n",
              "      <td>1.000000</td>\n",
              "      <td>-0.382773</td>\n",
              "      <td>-0.382773</td>\n",
              "      <td>-0.382773</td>\n",
              "      <td>-0.382773</td>\n",
              "      <td>-0.908714</td>\n",
              "      <td>-0.908714</td>\n",
              "      <td>...</td>\n",
              "      <td>-0.703704</td>\n",
              "      <td>-0.703704</td>\n",
              "      <td>-0.703704</td>\n",
              "      <td>-0.703704</td>\n",
              "      <td>0.345679</td>\n",
              "      <td>0.345679</td>\n",
              "      <td>0.345679</td>\n",
              "      <td>0.345679</td>\n",
              "      <td>0.085714</td>\n",
              "      <td>0.085714</td>\n",
              "      <td>0.085714</td>\n",
              "      <td>0.085714</td>\n",
              "      <td>-0.836145</td>\n",
              "      <td>-0.836145</td>\n",
              "      <td>-0.836145</td>\n",
              "      <td>-0.836145</td>\n",
              "      <td>-0.489712</td>\n",
              "      <td>-0.685470</td>\n",
              "      <td>-0.048218</td>\n",
              "      <td>-0.645951</td>\n",
              "      <td>0.357143</td>\n",
              "      <td>0.935673</td>\n",
              "      <td>-0.506173</td>\n",
              "      <td>-0.815385</td>\n",
              "      <td>-0.056604</td>\n",
              "      <td>-0.517241</td>\n",
              "      <td>0.357143</td>\n",
              "      <td>0.947368</td>\n",
              "      <td>-0.525773</td>\n",
              "      <td>-0.5125</td>\n",
              "      <td>-0.111111</td>\n",
              "      <td>-0.714286</td>\n",
              "      <td>0.604396</td>\n",
              "      <td>-0.435897</td>\n",
              "      <td>-0.491892</td>\n",
              "      <td>0.000000</td>\n",
              "      <td>-0.575758</td>\n",
              "      <td>0.101449</td>\n",
              "      <td>1.000000</td>\n",
              "      <td>1</td>\n",
              "    </tr>\n",
              "    <tr>\n",
              "      <th>3</th>\n",
              "      <td>0.4</td>\n",
              "      <td>0.0</td>\n",
              "      <td>0.0</td>\n",
              "      <td>0.0</td>\n",
              "      <td>0.0</td>\n",
              "      <td>0.0</td>\n",
              "      <td>0.0</td>\n",
              "      <td>0.0</td>\n",
              "      <td>1.0</td>\n",
              "      <td>1.0</td>\n",
              "      <td>-0.317073</td>\n",
              "      <td>-0.317073</td>\n",
              "      <td>-0.317073</td>\n",
              "      <td>-0.317073</td>\n",
              "      <td>0.326531</td>\n",
              "      <td>0.326531</td>\n",
              "      <td>0.326531</td>\n",
              "      <td>0.326531</td>\n",
              "      <td>-0.891993</td>\n",
              "      <td>-0.891993</td>\n",
              "      <td>-0.891993</td>\n",
              "      <td>-0.891993</td>\n",
              "      <td>-0.203354</td>\n",
              "      <td>-0.203354</td>\n",
              "      <td>-0.203354</td>\n",
              "      <td>-0.203354</td>\n",
              "      <td>-0.219512</td>\n",
              "      <td>-0.219512</td>\n",
              "      <td>-0.219512</td>\n",
              "      <td>-0.219512</td>\n",
              "      <td>-0.828421</td>\n",
              "      <td>-0.828421</td>\n",
              "      <td>-0.828421</td>\n",
              "      <td>-0.828421</td>\n",
              "      <td>-0.729239</td>\n",
              "      <td>-0.729239</td>\n",
              "      <td>-0.729239</td>\n",
              "      <td>-0.729239</td>\n",
              "      <td>-0.836100</td>\n",
              "      <td>-0.836100</td>\n",
              "      <td>...</td>\n",
              "      <td>-0.777778</td>\n",
              "      <td>-0.777778</td>\n",
              "      <td>-0.777778</td>\n",
              "      <td>-0.777778</td>\n",
              "      <td>0.580247</td>\n",
              "      <td>0.580247</td>\n",
              "      <td>0.580247</td>\n",
              "      <td>0.580247</td>\n",
              "      <td>0.200000</td>\n",
              "      <td>0.200000</td>\n",
              "      <td>0.200000</td>\n",
              "      <td>0.200000</td>\n",
              "      <td>-0.937349</td>\n",
              "      <td>-0.937349</td>\n",
              "      <td>-0.937349</td>\n",
              "      <td>-0.937349</td>\n",
              "      <td>0.012346</td>\n",
              "      <td>-0.369231</td>\n",
              "      <td>-0.528302</td>\n",
              "      <td>-0.457627</td>\n",
              "      <td>-0.285714</td>\n",
              "      <td>0.684211</td>\n",
              "      <td>0.012346</td>\n",
              "      <td>-0.369231</td>\n",
              "      <td>-0.528302</td>\n",
              "      <td>-0.448276</td>\n",
              "      <td>-0.285714</td>\n",
              "      <td>0.684211</td>\n",
              "      <td>0.175258</td>\n",
              "      <td>-0.1125</td>\n",
              "      <td>-0.384615</td>\n",
              "      <td>-0.357143</td>\n",
              "      <td>0.208791</td>\n",
              "      <td>-0.299145</td>\n",
              "      <td>-0.556757</td>\n",
              "      <td>-0.626866</td>\n",
              "      <td>-0.515152</td>\n",
              "      <td>-0.420290</td>\n",
              "      <td>0.684211</td>\n",
              "      <td>0</td>\n",
              "    </tr>\n",
              "    <tr>\n",
              "      <th>4</th>\n",
              "      <td>0.1</td>\n",
              "      <td>0.0</td>\n",
              "      <td>0.0</td>\n",
              "      <td>0.0</td>\n",
              "      <td>0.0</td>\n",
              "      <td>0.0</td>\n",
              "      <td>0.0</td>\n",
              "      <td>0.0</td>\n",
              "      <td>0.0</td>\n",
              "      <td>1.0</td>\n",
              "      <td>-0.317073</td>\n",
              "      <td>-0.317073</td>\n",
              "      <td>-0.317073</td>\n",
              "      <td>-0.317073</td>\n",
              "      <td>0.357143</td>\n",
              "      <td>0.357143</td>\n",
              "      <td>0.357143</td>\n",
              "      <td>0.357143</td>\n",
              "      <td>-0.851024</td>\n",
              "      <td>-0.851024</td>\n",
              "      <td>-0.851024</td>\n",
              "      <td>-0.851024</td>\n",
              "      <td>0.358491</td>\n",
              "      <td>0.358491</td>\n",
              "      <td>0.358491</td>\n",
              "      <td>0.358491</td>\n",
              "      <td>0.304878</td>\n",
              "      <td>0.304878</td>\n",
              "      <td>0.304878</td>\n",
              "      <td>0.304878</td>\n",
              "      <td>1.000000</td>\n",
              "      <td>1.000000</td>\n",
              "      <td>1.000000</td>\n",
              "      <td>1.000000</td>\n",
              "      <td>-0.702202</td>\n",
              "      <td>-0.702202</td>\n",
              "      <td>-0.702202</td>\n",
              "      <td>-0.702202</td>\n",
              "      <td>-0.641079</td>\n",
              "      <td>-0.641079</td>\n",
              "      <td>...</td>\n",
              "      <td>-0.592593</td>\n",
              "      <td>-0.592593</td>\n",
              "      <td>-0.592593</td>\n",
              "      <td>-0.592593</td>\n",
              "      <td>0.345679</td>\n",
              "      <td>0.345679</td>\n",
              "      <td>0.345679</td>\n",
              "      <td>0.345679</td>\n",
              "      <td>0.142857</td>\n",
              "      <td>0.142857</td>\n",
              "      <td>0.142857</td>\n",
              "      <td>0.142857</td>\n",
              "      <td>-0.903614</td>\n",
              "      <td>-0.903614</td>\n",
              "      <td>-0.903614</td>\n",
              "      <td>-0.903614</td>\n",
              "      <td>0.333333</td>\n",
              "      <td>-0.153846</td>\n",
              "      <td>0.160377</td>\n",
              "      <td>-0.593220</td>\n",
              "      <td>0.285714</td>\n",
              "      <td>0.868421</td>\n",
              "      <td>0.333333</td>\n",
              "      <td>-0.153846</td>\n",
              "      <td>0.160377</td>\n",
              "      <td>-0.586207</td>\n",
              "      <td>0.285714</td>\n",
              "      <td>0.868421</td>\n",
              "      <td>0.443299</td>\n",
              "      <td>0.0000</td>\n",
              "      <td>0.196581</td>\n",
              "      <td>-0.571429</td>\n",
              "      <td>0.538462</td>\n",
              "      <td>-0.076923</td>\n",
              "      <td>-0.351351</td>\n",
              "      <td>-0.044776</td>\n",
              "      <td>-0.575758</td>\n",
              "      <td>0.072464</td>\n",
              "      <td>0.894737</td>\n",
              "      <td>0</td>\n",
              "    </tr>\n",
              "    <tr>\n",
              "      <th>5</th>\n",
              "      <td>0.1</td>\n",
              "      <td>0.0</td>\n",
              "      <td>0.0</td>\n",
              "      <td>0.0</td>\n",
              "      <td>0.0</td>\n",
              "      <td>0.0</td>\n",
              "      <td>0.0</td>\n",
              "      <td>0.0</td>\n",
              "      <td>0.0</td>\n",
              "      <td>1.0</td>\n",
              "      <td>-0.317073</td>\n",
              "      <td>-0.317073</td>\n",
              "      <td>-0.317073</td>\n",
              "      <td>-0.317073</td>\n",
              "      <td>0.357143</td>\n",
              "      <td>0.357143</td>\n",
              "      <td>0.357143</td>\n",
              "      <td>0.357143</td>\n",
              "      <td>-0.891993</td>\n",
              "      <td>-0.891993</td>\n",
              "      <td>-0.891993</td>\n",
              "      <td>-0.891993</td>\n",
              "      <td>0.291405</td>\n",
              "      <td>0.291405</td>\n",
              "      <td>0.291405</td>\n",
              "      <td>0.291405</td>\n",
              "      <td>0.243902</td>\n",
              "      <td>0.243902</td>\n",
              "      <td>0.243902</td>\n",
              "      <td>0.243902</td>\n",
              "      <td>1.000000</td>\n",
              "      <td>1.000000</td>\n",
              "      <td>1.000000</td>\n",
              "      <td>1.000000</td>\n",
              "      <td>-0.706450</td>\n",
              "      <td>-0.706450</td>\n",
              "      <td>-0.706450</td>\n",
              "      <td>-0.706450</td>\n",
              "      <td>-0.340249</td>\n",
              "      <td>-0.340249</td>\n",
              "      <td>...</td>\n",
              "      <td>-0.666667</td>\n",
              "      <td>-0.666667</td>\n",
              "      <td>-0.666667</td>\n",
              "      <td>-0.666667</td>\n",
              "      <td>0.345679</td>\n",
              "      <td>0.345679</td>\n",
              "      <td>0.345679</td>\n",
              "      <td>0.345679</td>\n",
              "      <td>0.085714</td>\n",
              "      <td>0.085714</td>\n",
              "      <td>0.085714</td>\n",
              "      <td>0.085714</td>\n",
              "      <td>-0.884337</td>\n",
              "      <td>-0.884337</td>\n",
              "      <td>-0.884337</td>\n",
              "      <td>-0.884337</td>\n",
              "      <td>-0.037037</td>\n",
              "      <td>-0.538462</td>\n",
              "      <td>-0.537736</td>\n",
              "      <td>-0.525424</td>\n",
              "      <td>-0.196429</td>\n",
              "      <td>0.815789</td>\n",
              "      <td>-0.037037</td>\n",
              "      <td>-0.538462</td>\n",
              "      <td>-0.537736</td>\n",
              "      <td>-0.517241</td>\n",
              "      <td>-0.196429</td>\n",
              "      <td>0.815789</td>\n",
              "      <td>0.030928</td>\n",
              "      <td>-0.3750</td>\n",
              "      <td>-0.401709</td>\n",
              "      <td>-0.428571</td>\n",
              "      <td>0.252747</td>\n",
              "      <td>-0.247863</td>\n",
              "      <td>-0.567568</td>\n",
              "      <td>-0.626866</td>\n",
              "      <td>-0.575758</td>\n",
              "      <td>-0.333333</td>\n",
              "      <td>0.842105</td>\n",
              "      <td>0</td>\n",
              "    </tr>\n",
              "  </tbody>\n",
              "</table>\n",
              "<p>5 rows × 102 columns</p>\n",
              "</div>"
            ],
            "text/plain": [
              "   AGE_PERCENTIL  DISEASE GROUPING 1  ...  OXYGEN_SATURATION_MAX  ICU\n",
              "0            0.6                 0.0  ...               0.736842    1\n",
              "2            0.1                 0.0  ...               1.000000    1\n",
              "3            0.4                 0.0  ...               0.684211    0\n",
              "4            0.1                 0.0  ...               0.894737    0\n",
              "5            0.1                 0.0  ...               0.842105    0\n",
              "\n",
              "[5 rows x 102 columns]"
            ]
          },
          "metadata": {},
          "execution_count": 6
        }
      ]
    },
    {
      "cell_type": "markdown",
      "metadata": {
        "id": "ycw3bAN8gt_4"
      },
      "source": [
        "# GridSearch"
      ]
    },
    {
      "cell_type": "markdown",
      "metadata": {
        "id": "98dZKl8ph9k5"
      },
      "source": [
        "## Criação de variáveis"
      ]
    },
    {
      "cell_type": "code",
      "metadata": {
        "id": "lK3yl_ysOzWA"
      },
      "source": [
        "features_continuas = dados_limpos.columns[10:-1].tolist()\n",
        "features_categoricas = dados_limpos.columns[0:9].tolist()"
      ],
      "execution_count": null,
      "outputs": []
    },
    {
      "cell_type": "code",
      "metadata": {
        "id": "vWLYGc-6RwoK"
      },
      "source": [
        "X = dados_limpos.drop('ICU', axis = 1)\n",
        "y = dados_limpos['ICU']"
      ],
      "execution_count": null,
      "outputs": []
    },
    {
      "cell_type": "code",
      "metadata": {
        "id": "zdXNX6gXR9A4"
      },
      "source": [
        "X_treino, X_teste, y_treino, y_teste = train_test_split(X,y, test_size = 0.25, stratify = y, random_state = 527435)"
      ],
      "execution_count": null,
      "outputs": []
    },
    {
      "cell_type": "markdown",
      "metadata": {
        "id": "VmNHw3P5gxnO"
      },
      "source": [
        "## LogisticRegression"
      ]
    },
    {
      "cell_type": "code",
      "metadata": {
        "id": "HHLmOItujzge"
      },
      "source": [
        "modelo_log_reg = LogisticRegression(random_state=527435)"
      ],
      "execution_count": null,
      "outputs": []
    },
    {
      "cell_type": "code",
      "metadata": {
        "colab": {
          "base_uri": "https://localhost:8080/"
        },
        "id": "1dZzRqS3kBnu",
        "outputId": "ee276ef4-7fda-4f71-a41b-bdaa768c9719"
      },
      "source": [
        "modelo_log_reg"
      ],
      "execution_count": null,
      "outputs": [
        {
          "output_type": "execute_result",
          "data": {
            "text/plain": [
              "LogisticRegression(C=1.0, class_weight=None, dual=False, fit_intercept=True,\n",
              "                   intercept_scaling=1, l1_ratio=None, max_iter=100,\n",
              "                   multi_class='auto', n_jobs=None, penalty='l2',\n",
              "                   random_state=527435, solver='lbfgs', tol=0.0001, verbose=0,\n",
              "                   warm_start=False)"
            ]
          },
          "metadata": {},
          "execution_count": 32
        }
      ]
    },
    {
      "cell_type": "code",
      "metadata": {
        "id": "_M8PiFkSwGjD"
      },
      "source": [
        "parametros_log_reg = {'class_weight' : (None, 'balanced'),\n",
        "              'solver' : ('lbfgs', 'liblinear'),\n",
        "              'fit_intercept' : (True, False),\n",
        "              'C': [1.0,1.5,2.0,2.5,3.0],\n",
        "              'max_iter' : [10*x for x in range(5,101)],\n",
        "              'tol' : [0.0001,0.001,0.01, 0.1,1.0]\n",
        "    \n",
        "}"
      ],
      "execution_count": null,
      "outputs": []
    },
    {
      "cell_type": "code",
      "metadata": {
        "id": "S2__Gc1WwkGg"
      },
      "source": [
        "clf_log_reg = GridSearchCV(modelo_log_reg,parametros_log_reg, scoring= 'roc_auc')"
      ],
      "execution_count": null,
      "outputs": []
    },
    {
      "cell_type": "code",
      "metadata": {
        "colab": {
          "base_uri": "https://localhost:8080/"
        },
        "id": "-l6D2XPVwvUf",
        "outputId": "6f90208f-8fa2-418a-b91a-eb716c6cb99d"
      },
      "source": [
        "clf_log_reg.fit(X_treino,y_treino)"
      ],
      "execution_count": null,
      "outputs": [
        {
          "output_type": "execute_result",
          "data": {
            "text/plain": [
              "GridSearchCV(cv=None, error_score=nan,\n",
              "             estimator=LogisticRegression(C=1.0, class_weight=None, dual=False,\n",
              "                                          fit_intercept=True,\n",
              "                                          intercept_scaling=1, l1_ratio=None,\n",
              "                                          max_iter=100, multi_class='auto',\n",
              "                                          n_jobs=None, penalty='l2',\n",
              "                                          random_state=527435, solver='lbfgs',\n",
              "                                          tol=0.0001, verbose=0,\n",
              "                                          warm_start=False),\n",
              "             iid='deprecated', n_jobs=None,\n",
              "             param_grid={'C': [1.0, 1.5, 2.0, 2.5, 3.0],\n",
              "                         'class_weight': (None, 'balanced'),\n",
              "                         'fit_intercept': (True, False),\n",
              "                         'max_iter': [50, 60, 70, 80, 90, 100, 110, 120, 130,\n",
              "                                      140, 150, 160, 170, 180, 190, 200, 210,\n",
              "                                      220, 230, 240, 250, 260, 270, 280, 290,\n",
              "                                      300, 310, 320, 330, 340, ...],\n",
              "                         'solver': ('lbfgs', 'liblinear'),\n",
              "                         'tol': [0.0001, 0.001, 0.01, 0.1, 1.0]},\n",
              "             pre_dispatch='2*n_jobs', refit=True, return_train_score=False,\n",
              "             scoring='roc_auc', verbose=0)"
            ]
          },
          "metadata": {},
          "execution_count": 45
        }
      ]
    },
    {
      "cell_type": "code",
      "metadata": {
        "colab": {
          "base_uri": "https://localhost:8080/"
        },
        "id": "nQADqL4D-4-T",
        "outputId": "63a4f2fb-4509-4886-fca1-d64309c0d562"
      },
      "source": [
        "modelo_log_reg = clf_log_reg.best_estimator_\n",
        "modelo_log_reg"
      ],
      "execution_count": null,
      "outputs": [
        {
          "output_type": "execute_result",
          "data": {
            "text/plain": [
              "LogisticRegression(C=1.0, class_weight=None, dual=False, fit_intercept=True,\n",
              "                   intercept_scaling=1, l1_ratio=None, max_iter=50,\n",
              "                   multi_class='auto', n_jobs=None, penalty='l2',\n",
              "                   random_state=527435, solver='lbfgs', tol=0.1, verbose=0,\n",
              "                   warm_start=False)"
            ]
          },
          "metadata": {},
          "execution_count": 47
        }
      ]
    },
    {
      "cell_type": "code",
      "metadata": {
        "colab": {
          "base_uri": "https://localhost:8080/"
        },
        "id": "O8rZhijs-7g4",
        "outputId": "dd503cf9-5ace-48ea-b50d-db9ec5c7f7c7"
      },
      "source": [
        "clf_log_reg.best_params_"
      ],
      "execution_count": null,
      "outputs": [
        {
          "output_type": "execute_result",
          "data": {
            "text/plain": [
              "{'C': 1.0,\n",
              " 'class_weight': None,\n",
              " 'fit_intercept': True,\n",
              " 'max_iter': 50,\n",
              " 'solver': 'lbfgs',\n",
              " 'tol': 0.1}"
            ]
          },
          "metadata": {},
          "execution_count": 48
        }
      ]
    },
    {
      "cell_type": "markdown",
      "metadata": {
        "id": "Kf1Q7Dk_tsxi"
      },
      "source": [
        "Melhores parâmetros:\n",
        "\n",
        "{'C': 1.0,\n",
        " 'class_weight': None,\n",
        " 'fit_intercept': True,\n",
        " 'max_iter': 50,\n",
        " 'solver': 'lbfgs',\n",
        " 'tol': 0.1}"
      ]
    },
    {
      "cell_type": "code",
      "metadata": {
        "colab": {
          "base_uri": "https://localhost:8080/"
        },
        "id": "HRvpUti__FAj",
        "outputId": "7d664f7c-69dd-4325-abbd-5be0dc02f559"
      },
      "source": [
        "clf_log_reg.best_score_"
      ],
      "execution_count": null,
      "outputs": [
        {
          "output_type": "execute_result",
          "data": {
            "text/plain": [
              "0.7941633825944171"
            ]
          },
          "metadata": {},
          "execution_count": 49
        }
      ]
    },
    {
      "cell_type": "code",
      "metadata": {
        "id": "0Iv2Ao06xz4D"
      },
      "source": [
        "y_pred_log_reg = clf_log_reg.predict(X_teste)"
      ],
      "execution_count": null,
      "outputs": []
    },
    {
      "cell_type": "code",
      "metadata": {
        "colab": {
          "base_uri": "https://localhost:8080/"
        },
        "id": "YtKyKOBIyJhx",
        "outputId": "7e47e178-4b1e-42e2-d2b4-a28765b9777b"
      },
      "source": [
        "print(classification_report(y_teste,y_pred_log_reg))"
      ],
      "execution_count": null,
      "outputs": [
        {
          "output_type": "stream",
          "text": [
            "              precision    recall  f1-score   support\n",
            "\n",
            "           0       0.69      0.70      0.69        47\n",
            "           1       0.65      0.63      0.64        41\n",
            "\n",
            "    accuracy                           0.67        88\n",
            "   macro avg       0.67      0.67      0.67        88\n",
            "weighted avg       0.67      0.67      0.67        88\n",
            "\n"
          ],
          "name": "stdout"
        }
      ]
    },
    {
      "cell_type": "code",
      "metadata": {
        "colab": {
          "base_uri": "https://localhost:8080/"
        },
        "id": "SZ2B-25LSC9Y",
        "outputId": "3f89bdb7-b3f9-463b-dfc7-2459a6118312"
      },
      "source": [
        "modelo_log_reg.fit(X_treino, y_treino)\n",
        "y_pred_log_reg = modelo.predict(X_teste)\n",
        "acur = modelo_log_reg.score(X_teste, y_teste)\n",
        "print(f\"Acurácia = {round(100*acur, 2)}%\")"
      ],
      "execution_count": null,
      "outputs": [
        {
          "output_type": "stream",
          "text": [
            "Acurácia = 67.05%\n"
          ],
          "name": "stdout"
        }
      ]
    },
    {
      "cell_type": "code",
      "metadata": {
        "colab": {
          "base_uri": "https://localhost:8080/"
        },
        "id": "8zUo8h16Scw3",
        "outputId": "18d69d81-8916-4eed-fa02-6875547ef611"
      },
      "source": [
        "print(classification_report(y_teste,y_pred_log_reg))"
      ],
      "execution_count": null,
      "outputs": [
        {
          "output_type": "stream",
          "text": [
            "              precision    recall  f1-score   support\n",
            "\n",
            "           0       0.81      0.74      0.78        47\n",
            "           1       0.73      0.80      0.77        41\n",
            "\n",
            "    accuracy                           0.77        88\n",
            "   macro avg       0.77      0.77      0.77        88\n",
            "weighted avg       0.78      0.77      0.77        88\n",
            "\n"
          ],
          "name": "stdout"
        }
      ]
    },
    {
      "cell_type": "code",
      "metadata": {
        "colab": {
          "base_uri": "https://localhost:8080/"
        },
        "id": "o2Va_ZPVS6Nq",
        "outputId": "e9b19288-7ef3-42e1-eee2-809864005268"
      },
      "source": [
        "print(classification_report(y_treino,modelo_log_reg.predict(X_treino)))"
      ],
      "execution_count": null,
      "outputs": [
        {
          "output_type": "stream",
          "text": [
            "              precision    recall  f1-score   support\n",
            "\n",
            "           0       0.80      0.82      0.81       142\n",
            "           1       0.78      0.75      0.77       121\n",
            "\n",
            "    accuracy                           0.79       263\n",
            "   macro avg       0.79      0.79      0.79       263\n",
            "weighted avg       0.79      0.79      0.79       263\n",
            "\n"
          ],
          "name": "stdout"
        }
      ]
    },
    {
      "cell_type": "code",
      "metadata": {
        "colab": {
          "base_uri": "https://localhost:8080/",
          "height": 575
        },
        "id": "XjLDKTRwSUJo",
        "outputId": "3b05f782-825b-4037-f12d-e1d73629fd40"
      },
      "source": [
        "fig, ax = plt.subplots(figsize=(10, 10))\n",
        "plot_confusion_matrix(modelo_log_reg, X_teste, y_teste, ax=ax)\n",
        "\n",
        "plt.title('Matriz de Confusão (dados reais/dados preditos)')\n",
        "plt.ylabel('Valores reais',fontsize=14)\n",
        "plt.xlabel('Valores preditos',fontsize=14)\n",
        "plt.show()"
      ],
      "execution_count": null,
      "outputs": [
        {
          "output_type": "display_data",
          "data": {
            "image/png": "[encoded data removed]",
            "text/plain": [
              "<Figure size 720x720 with 2 Axes>"
            ]
          },
          "metadata": {
            "needs_background": "light"
          }
        }
      ]
    },
    {
      "cell_type": "markdown",
      "metadata": {
        "id": "Ql2GcSn2qLyM"
      },
      "source": [
        "## RandomForest"
      ]
    },
    {
      "cell_type": "code",
      "metadata": {
        "id": "mlqyjFC8qLyP"
      },
      "source": [
        "modelo_forest = RandomForestClassifier(random_state=527435)"
      ],
      "execution_count": null,
      "outputs": []
    },
    {
      "cell_type": "code",
      "metadata": {
        "colab": {
          "base_uri": "https://localhost:8080/"
        },
        "id": "y5_eRUdDqLyQ",
        "outputId": "a2f20504-6c15-4099-bacd-aaa6f30fe253"
      },
      "source": [
        "modelo_forest"
      ],
      "execution_count": null,
      "outputs": [
        {
          "output_type": "execute_result",
          "data": {
            "text/plain": [
              "RandomForestClassifier(bootstrap=True, ccp_alpha=0.0, class_weight=None,\n",
              "                       criterion='gini', max_depth=None, max_features='auto',\n",
              "                       max_leaf_nodes=None, max_samples=None,\n",
              "                       min_impurity_decrease=0.0, min_impurity_split=None,\n",
              "                       min_samples_leaf=1, min_samples_split=2,\n",
              "                       min_weight_fraction_leaf=0.0, n_estimators=100,\n",
              "                       n_jobs=None, oob_score=False, random_state=527435,\n",
              "                       verbose=0, warm_start=False)"
            ]
          },
          "metadata": {},
          "execution_count": 61
        }
      ]
    },
    {
      "cell_type": "code",
      "metadata": {
        "id": "dObATJR0qLyR"
      },
      "source": [
        "parametros_forest = {'class_weight' : ('balanced', 'balanced_subsample'),\n",
        "              'criterion' : ('gini', 'entropy'),\n",
        "              'max_depth': [None,5,10,15,20,25,30],\n",
        "              'max_features': ['auto', 'log2', None],\n",
        "              'max_samples' : [None, 0.1,0.2,0.3,0.4,0.5,0.6,0.7,0.8,0.9]\n",
        "    \n",
        "}"
      ],
      "execution_count": null,
      "outputs": []
    },
    {
      "cell_type": "code",
      "metadata": {
        "id": "ZFKLEVeRqLyR"
      },
      "source": [
        "clf_forest = GridSearchCV(modelo_forest,parametros_forest, scoring= 'roc_auc')"
      ],
      "execution_count": null,
      "outputs": []
    },
    {
      "cell_type": "code",
      "metadata": {
        "colab": {
          "base_uri": "https://localhost:8080/"
        },
        "id": "lV9tdnTrqLyR",
        "outputId": "59a89dd1-2e64-4efd-f4d8-8d1cf5bccf1e"
      },
      "source": [
        "clf_forest.fit(X_treino,y_treino)"
      ],
      "execution_count": null,
      "outputs": [
        {
          "output_type": "execute_result",
          "data": {
            "text/plain": [
              "GridSearchCV(cv=None, error_score=nan,\n",
              "             estimator=RandomForestClassifier(bootstrap=True, ccp_alpha=0.0,\n",
              "                                              class_weight=None,\n",
              "                                              criterion='gini', max_depth=None,\n",
              "                                              max_features='auto',\n",
              "                                              max_leaf_nodes=None,\n",
              "                                              max_samples=None,\n",
              "                                              min_impurity_decrease=0.0,\n",
              "                                              min_impurity_split=None,\n",
              "                                              min_samples_leaf=1,\n",
              "                                              min_samples_split=2,\n",
              "                                              min_weight_fraction_leaf=0.0,\n",
              "                                              n_estimators=100, n_jobs=No...\n",
              "                                              warm_start=False),\n",
              "             iid='deprecated', n_jobs=None,\n",
              "             param_grid={'class_weight': ('balanced', 'balanced_subsample'),\n",
              "                         'criterion': ('gini', 'entropy'),\n",
              "                         'max_depth': [None, 5, 10, 15, 20, 25, 30],\n",
              "                         'max_features': ['auto', 'log2', None],\n",
              "                         'max_samples': [None, 0.1, 0.2, 0.3, 0.4, 0.5, 0.6,\n",
              "                                         0.7, 0.8, 0.9]},\n",
              "             pre_dispatch='2*n_jobs', refit=True, return_train_score=False,\n",
              "             scoring='roc_auc', verbose=0)"
            ]
          },
          "metadata": {},
          "execution_count": 64
        }
      ]
    },
    {
      "cell_type": "code",
      "metadata": {
        "colab": {
          "base_uri": "https://localhost:8080/"
        },
        "id": "Go-LyEr_qLyS",
        "outputId": "643b36c9-0b21-46eb-d68a-5cd5a4386454"
      },
      "source": [
        "melhor_modelo_forest = clf_forest.best_estimator_\n",
        "melhor_modelo_forest"
      ],
      "execution_count": null,
      "outputs": [
        {
          "output_type": "execute_result",
          "data": {
            "text/plain": [
              "RandomForestClassifier(bootstrap=True, ccp_alpha=0.0,\n",
              "                       class_weight='balanced_subsample', criterion='gini',\n",
              "                       max_depth=15, max_features='log2', max_leaf_nodes=None,\n",
              "                       max_samples=0.6, min_impurity_decrease=0.0,\n",
              "                       min_impurity_split=None, min_samples_leaf=1,\n",
              "                       min_samples_split=2, min_weight_fraction_leaf=0.0,\n",
              "                       n_estimators=100, n_jobs=None, oob_score=False,\n",
              "                       random_state=527435, verbose=0, warm_start=False)"
            ]
          },
          "metadata": {},
          "execution_count": 66
        }
      ]
    },
    {
      "cell_type": "code",
      "metadata": {
        "colab": {
          "base_uri": "https://localhost:8080/"
        },
        "id": "P7DSpMCLaNS_",
        "outputId": "16443f9e-6499-4d0c-9a25-9f263351eccc"
      },
      "source": [
        "melhor_modelo_forest.fit(X_treino,y_treino)"
      ],
      "execution_count": null,
      "outputs": [
        {
          "output_type": "execute_result",
          "data": {
            "text/plain": [
              "RandomForestClassifier(bootstrap=True, ccp_alpha=0.0,\n",
              "                       class_weight='balanced_subsample', criterion='gini',\n",
              "                       max_depth=15, max_features='log2', max_leaf_nodes=None,\n",
              "                       max_samples=0.6, min_impurity_decrease=0.0,\n",
              "                       min_impurity_split=None, min_samples_leaf=1,\n",
              "                       min_samples_split=2, min_weight_fraction_leaf=0.0,\n",
              "                       n_estimators=100, n_jobs=None, oob_score=False,\n",
              "                       random_state=527435, verbose=0, warm_start=False)"
            ]
          },
          "metadata": {},
          "execution_count": 73
        }
      ]
    },
    {
      "cell_type": "code",
      "metadata": {
        "id": "geJwS3giZerR"
      },
      "source": [
        "modelo_floresta = RandomForestClassifier(class_weight= 'balanced_subsample',\n",
        "                                         criterion = 'gini',\n",
        "                                         max_depth = 15,\n",
        "                                         max_features = 'log2',\n",
        "                                         max_samples = 0.6,\n",
        "                                         random_state = 527435)"
      ],
      "execution_count": null,
      "outputs": []
    },
    {
      "cell_type": "code",
      "metadata": {
        "colab": {
          "base_uri": "https://localhost:8080/"
        },
        "id": "iOhOr3h9qLyS",
        "outputId": "a012f9a0-1a77-4fe2-f2a9-8194ae12e7dd"
      },
      "source": [
        "clf_forest.best_params_"
      ],
      "execution_count": null,
      "outputs": [
        {
          "output_type": "execute_result",
          "data": {
            "text/plain": [
              "{'class_weight': 'balanced_subsample',\n",
              " 'criterion': 'gini',\n",
              " 'max_depth': 15,\n",
              " 'max_features': 'log2',\n",
              " 'max_samples': 0.6}"
            ]
          },
          "metadata": {},
          "execution_count": 67
        }
      ]
    },
    {
      "cell_type": "markdown",
      "metadata": {
        "id": "Lx29Z_SwqLyT"
      },
      "source": [
        "Melhores parâmetros:\n",
        "\n",
        "\n",
        "{'class_weight': 'balanced_subsample',\n",
        " 'criterion': 'gini',\n",
        " 'max_depth': 15,\n",
        " 'max_features': 'log2',\n",
        " 'max_samples': 0.6}"
      ]
    },
    {
      "cell_type": "code",
      "metadata": {
        "colab": {
          "base_uri": "https://localhost:8080/"
        },
        "id": "nM1x5Z51qLyT",
        "outputId": "f3a0ca01-0c82-489e-b71e-63721de98a8b"
      },
      "source": [
        "clf_forest.best_score_"
      ],
      "execution_count": null,
      "outputs": [
        {
          "output_type": "execute_result",
          "data": {
            "text/plain": [
              "0.8286915024630541"
            ]
          },
          "metadata": {},
          "execution_count": 85
        }
      ]
    },
    {
      "cell_type": "code",
      "metadata": {
        "colab": {
          "base_uri": "https://localhost:8080/"
        },
        "id": "UGxQK8YjbgPq",
        "outputId": "4290250b-d338-4ca3-fa1d-d67ec8edf29e"
      },
      "source": [
        "modelo_floresta.fit(X_treino,y_treino)"
      ],
      "execution_count": null,
      "outputs": [
        {
          "output_type": "execute_result",
          "data": {
            "text/plain": [
              "RandomForestClassifier(bootstrap=True, ccp_alpha=0.0,\n",
              "                       class_weight='balanced_subsample', criterion='gini',\n",
              "                       max_depth=15, max_features='log2', max_leaf_nodes=None,\n",
              "                       max_samples=0.6, min_impurity_decrease=0.0,\n",
              "                       min_impurity_split=None, min_samples_leaf=1,\n",
              "                       min_samples_split=2, min_weight_fraction_leaf=0.0,\n",
              "                       n_estimators=100, n_jobs=None, oob_score=False,\n",
              "                       random_state=527435, verbose=0, warm_start=False)"
            ]
          },
          "metadata": {},
          "execution_count": 82
        }
      ]
    },
    {
      "cell_type": "code",
      "metadata": {
        "id": "TD1XB4h1bmng"
      },
      "source": [
        "y_pred_forest = modelo_floresta.predict(X_teste)"
      ],
      "execution_count": null,
      "outputs": []
    },
    {
      "cell_type": "code",
      "metadata": {
        "id": "XPTj_wMtqLyU"
      },
      "source": [
        "y_pred_forest = melhor_modelo_forest.predict(X_teste)"
      ],
      "execution_count": null,
      "outputs": []
    },
    {
      "cell_type": "code",
      "metadata": {
        "colab": {
          "base_uri": "https://localhost:8080/"
        },
        "id": "JlB3lOIwqLyU",
        "outputId": "5356f6d0-0683-4c4d-9639-05837842ffa6"
      },
      "source": [
        "print(classification_report(y_teste,y_pred_forest))"
      ],
      "execution_count": null,
      "outputs": [
        {
          "output_type": "stream",
          "text": [
            "              precision    recall  f1-score   support\n",
            "\n",
            "           0       0.70      0.70      0.70        47\n",
            "           1       0.66      0.66      0.66        41\n",
            "\n",
            "    accuracy                           0.68        88\n",
            "   macro avg       0.68      0.68      0.68        88\n",
            "weighted avg       0.68      0.68      0.68        88\n",
            "\n"
          ],
          "name": "stdout"
        }
      ]
    },
    {
      "cell_type": "code",
      "metadata": {
        "colab": {
          "base_uri": "https://localhost:8080/"
        },
        "id": "T9u2eyXMqLyU",
        "outputId": "3d9df52e-c67a-4bbe-d501-64f813ff5ac2"
      },
      "source": [
        "modelo = clf.best_estimator_\n",
        "modelo.fit(X_treino, y_treino)\n",
        "y_pred = modelo.predict(X_teste)\n",
        "acur = modelo.score(X_teste, y_teste)\n",
        "print(f\"Acurácia = {round(100*acur, 2)}%\")"
      ],
      "execution_count": null,
      "outputs": [
        {
          "output_type": "stream",
          "text": [
            "Acurácia = 78.3%\n"
          ],
          "name": "stdout"
        }
      ]
    },
    {
      "cell_type": "code",
      "metadata": {
        "colab": {
          "base_uri": "https://localhost:8080/"
        },
        "id": "4fBxwuOzqLyV",
        "outputId": "772985ed-8441-4fa4-fdc2-530e8e45b92e"
      },
      "source": [
        "print(classification_report(y_teste,y_pred))"
      ],
      "execution_count": null,
      "outputs": [
        {
          "output_type": "stream",
          "text": [
            "              precision    recall  f1-score   support\n",
            "\n",
            "           0       0.78      0.82      0.80        57\n",
            "           1       0.78      0.73      0.76        49\n",
            "\n",
            "    accuracy                           0.78       106\n",
            "   macro avg       0.78      0.78      0.78       106\n",
            "weighted avg       0.78      0.78      0.78       106\n",
            "\n"
          ],
          "name": "stdout"
        }
      ]
    },
    {
      "cell_type": "code",
      "metadata": {
        "colab": {
          "base_uri": "https://localhost:8080/"
        },
        "id": "7pEI0xAXqLyV",
        "outputId": "d80da166-9e4a-4de5-8a46-3df41f48fe95"
      },
      "source": [
        "print(classification_report(y_treino,modelo.predict(X_treino)))"
      ],
      "execution_count": null,
      "outputs": [
        {
          "output_type": "stream",
          "text": [
            "              precision    recall  f1-score   support\n",
            "\n",
            "           0       0.96      0.97      0.97       132\n",
            "           1       0.96      0.96      0.96       113\n",
            "\n",
            "    accuracy                           0.96       245\n",
            "   macro avg       0.96      0.96      0.96       245\n",
            "weighted avg       0.96      0.96      0.96       245\n",
            "\n"
          ],
          "name": "stdout"
        }
      ]
    },
    {
      "cell_type": "code",
      "metadata": {
        "colab": {
          "base_uri": "https://localhost:8080/",
          "height": 580
        },
        "id": "qCMf21eTqLyW",
        "outputId": "ee669766-e1fc-442c-f59f-e8f61d7af1f3"
      },
      "source": [
        "fig, ax = plt.subplots(figsize=(10, 10))\n",
        "plot_confusion_matrix(modelo, X_teste, y_teste, ax=ax)\n",
        "\n",
        "plt.title('Matriz de Confusão (dados reais/dados preditos)')\n",
        "plt.ylabel('Valores reais',fontsize=14)\n",
        "plt.xlabel('Valores preditos',fontsize=14)\n",
        "plt.show()"
      ],
      "execution_count": null,
      "outputs": [
        {
          "output_type": "display_data",
          "data": {
            "image/png": "[encoded data removed]",
            "text/plain": [
              "<Figure size 720x720 with 2 Axes>"
            ]
          },
          "metadata": {
            "tags": [],
            "needs_background": "light"
          }
        }
      ]
    },
    {
      "cell_type": "markdown",
      "metadata": {
        "id": "RNtMZT3d0pUX"
      },
      "source": [
        "## XGBClassifier"
      ]
    },
    {
      "cell_type": "code",
      "metadata": {
        "id": "mp9i9xAL0pUY"
      },
      "source": [
        "modelo_xgb = XGBClassifier(random_state=527435)"
      ],
      "execution_count": null,
      "outputs": []
    },
    {
      "cell_type": "code",
      "metadata": {
        "id": "VZfWljFv0pUZ"
      },
      "source": [
        "parametros_xgb = {'booster' : ['gbtree', 'gblinear','dart'],\n",
        "              'eta' : [0.1,0.2,0.3,0.4,0.5,0.6,0.7,0.8,0.9,1.0],\n",
        "              'max_depth': [1,5,10,15,20,25,30],\n",
        "              'subsample': [0.2, 0.5, 0.7, 1.0],\n",
        "              'sampling_method' : ['uniform', 'gradient_based']\n",
        "    \n",
        "}"
      ],
      "execution_count": null,
      "outputs": []
    },
    {
      "cell_type": "code",
      "metadata": {
        "id": "UrljJmCR0pUZ"
      },
      "source": [
        "clf_xgb = GridSearchCV(modelo_xgb,parametros_xgb, scoring= 'roc_auc')"
      ],
      "execution_count": null,
      "outputs": []
    },
    {
      "cell_type": "code",
      "metadata": {
        "colab": {
          "base_uri": "https://localhost:8080/"
        },
        "id": "fnuW6meH0pUa",
        "outputId": "6675f043-14f9-45ff-f3fe-d2c5ed2e5063"
      },
      "source": [
        "clf_xgb.fit(X_treino,y_treino)"
      ],
      "execution_count": null,
      "outputs": [
        {
          "output_type": "execute_result",
          "data": {
            "text/plain": [
              "GridSearchCV(cv=None, error_score=nan,\n",
              "             estimator=XGBClassifier(base_score=0.5, booster='gbtree',\n",
              "                                     colsample_bylevel=1, colsample_bynode=1,\n",
              "                                     colsample_bytree=1, gamma=0,\n",
              "                                     learning_rate=0.1, max_delta_step=0,\n",
              "                                     max_depth=3, min_child_weight=1,\n",
              "                                     missing=None, n_estimators=100, n_jobs=1,\n",
              "                                     nthread=None, objective='binary:logistic',\n",
              "                                     random_state=527435, reg_alpha=0,\n",
              "                                     reg_lambda=1,...\n",
              "                                     seed=None, silent=None, subsample=1,\n",
              "                                     verbosity=1),\n",
              "             iid='deprecated', n_jobs=None,\n",
              "             param_grid={'booster': ['gbtree', 'gblinear', 'dart'],\n",
              "                         'eta': [0.1, 0.2, 0.3, 0.4, 0.5, 0.6, 0.7, 0.8, 0.9,\n",
              "                                 1.0],\n",
              "                         'max_depth': [1, 5, 10, 15, 20, 25, 30],\n",
              "                         'sampling_method': ['uniform', 'gradient_based'],\n",
              "                         'subsample': [0.2, 0.5, 0.7, 1.0]},\n",
              "             pre_dispatch='2*n_jobs', refit=True, return_train_score=False,\n",
              "             scoring='roc_auc', verbose=0)"
            ]
          },
          "metadata": {},
          "execution_count": 35
        }
      ]
    },
    {
      "cell_type": "code",
      "metadata": {
        "colab": {
          "base_uri": "https://localhost:8080/"
        },
        "id": "lVo2rw2G0pUa",
        "outputId": "1d0e60dd-60da-4b91-c273-efbebe852d4b"
      },
      "source": [
        "melhor_modelo_xgb = clf_xgb.best_estimator_\n",
        "melhor_modelo_xgb"
      ],
      "execution_count": null,
      "outputs": [
        {
          "output_type": "execute_result",
          "data": {
            "text/plain": [
              "XGBClassifier(base_score=0.5, booster='dart', colsample_bylevel=1,\n",
              "              colsample_bynode=1, colsample_bytree=1, eta=0.1, gamma=0,\n",
              "              learning_rate=0.1, max_delta_step=0, max_depth=5,\n",
              "              min_child_weight=1, missing=None, n_estimators=100, n_jobs=1,\n",
              "              nthread=None, objective='binary:logistic', random_state=527435,\n",
              "              reg_alpha=0, reg_lambda=1, sampling_method='uniform',\n",
              "              scale_pos_weight=1, seed=None, silent=None, subsample=0.7,\n",
              "              verbosity=1)"
            ]
          },
          "metadata": {},
          "execution_count": 37
        }
      ]
    },
    {
      "cell_type": "code",
      "metadata": {
        "colab": {
          "base_uri": "https://localhost:8080/"
        },
        "id": "RfN2wFoN0pUa",
        "outputId": "ead0d7c6-f95b-4497-c9d7-9b132533af04"
      },
      "source": [
        "clf_xgb.best_params_"
      ],
      "execution_count": null,
      "outputs": [
        {
          "output_type": "execute_result",
          "data": {
            "text/plain": [
              "{'booster': 'dart',\n",
              " 'eta': 0.1,\n",
              " 'max_depth': 5,\n",
              " 'sampling_method': 'uniform',\n",
              " 'subsample': 0.7}"
            ]
          },
          "metadata": {},
          "execution_count": 38
        }
      ]
    },
    {
      "cell_type": "markdown",
      "metadata": {
        "id": "NCdtAfze0pUb"
      },
      "source": [
        "Melhores parâmetros:\n",
        "\n",
        "{'booster': 'dart',\n",
        " 'eta': 0.1,\n",
        " 'max_depth': 5,\n",
        " 'sampling_method': 'uniform',\n",
        " 'subsample': 0.7}"
      ]
    },
    {
      "cell_type": "code",
      "metadata": {
        "colab": {
          "base_uri": "https://localhost:8080/"
        },
        "id": "U2U30s_40pUb",
        "outputId": "4102ac5a-10fe-42ad-9f70-59436422e782"
      },
      "source": [
        "clf_xgb.best_score_"
      ],
      "execution_count": null,
      "outputs": [
        {
          "output_type": "execute_result",
          "data": {
            "text/plain": [
              "0.8129224137931035"
            ]
          },
          "metadata": {},
          "execution_count": 39
        }
      ]
    },
    {
      "cell_type": "code",
      "metadata": {
        "id": "B0VcIJXX0pUb"
      },
      "source": [
        "y_pred_xgb = melhor_modelo_xgb.predict(X_teste)"
      ],
      "execution_count": null,
      "outputs": []
    },
    {
      "cell_type": "code",
      "metadata": {
        "colab": {
          "base_uri": "https://localhost:8080/"
        },
        "id": "79c-mW7g0pUc",
        "outputId": "5614bf00-a47b-48d3-8369-2a30bd23b1bb"
      },
      "source": [
        "print(classification_report(y_teste,y_pred_xgb))"
      ],
      "execution_count": null,
      "outputs": [
        {
          "output_type": "stream",
          "text": [
            "              precision    recall  f1-score   support\n",
            "\n",
            "           0       0.78      0.74      0.76        47\n",
            "           1       0.72      0.76      0.74        41\n",
            "\n",
            "    accuracy                           0.75        88\n",
            "   macro avg       0.75      0.75      0.75        88\n",
            "weighted avg       0.75      0.75      0.75        88\n",
            "\n"
          ],
          "name": "stdout"
        }
      ]
    },
    {
      "cell_type": "code",
      "metadata": {
        "colab": {
          "base_uri": "https://localhost:8080/"
        },
        "id": "jojWba2Y0pUc",
        "outputId": "a57af6d0-e950-417c-9edb-469a0b6c0d14"
      },
      "source": [
        "modelo_xgb.fit(X_treino, y_treino)\n",
        "y_pred_xgb = modelo_xgb.predict(X_teste)\n",
        "acur = modelo_xgb.score(X_teste, y_teste)\n",
        "print(f\"Acurácia = {round(100*acur, 2)}%\")"
      ],
      "execution_count": null,
      "outputs": [
        {
          "output_type": "stream",
          "text": [
            "Acurácia = 75.0%\n"
          ],
          "name": "stdout"
        }
      ]
    },
    {
      "cell_type": "code",
      "metadata": {
        "colab": {
          "base_uri": "https://localhost:8080/"
        },
        "id": "_G1Fa9RV0pUc",
        "outputId": "428a8ef3-23b0-4ad4-dfad-7bd0ada645ba"
      },
      "source": [
        "print(classification_report(y_teste,y_pred_xgb))"
      ],
      "execution_count": null,
      "outputs": [
        {
          "output_type": "stream",
          "text": [
            "              precision    recall  f1-score   support\n",
            "\n",
            "           0       0.79      0.72      0.76        47\n",
            "           1       0.71      0.78      0.74        41\n",
            "\n",
            "    accuracy                           0.75        88\n",
            "   macro avg       0.75      0.75      0.75        88\n",
            "weighted avg       0.75      0.75      0.75        88\n",
            "\n"
          ],
          "name": "stdout"
        }
      ]
    },
    {
      "cell_type": "code",
      "metadata": {
        "colab": {
          "base_uri": "https://localhost:8080/"
        },
        "id": "Sk3ZWGg00pUd",
        "outputId": "98cee313-68e6-4c21-c661-3ef2fe3a8b6a"
      },
      "source": [
        "print(classification_report(y_treino,modelo_xgb.predict(X_treino)))"
      ],
      "execution_count": null,
      "outputs": [
        {
          "output_type": "stream",
          "text": [
            "              precision    recall  f1-score   support\n",
            "\n",
            "           0       0.99      1.00      0.99       142\n",
            "           1       1.00      0.98      0.99       121\n",
            "\n",
            "    accuracy                           0.99       263\n",
            "   macro avg       0.99      0.99      0.99       263\n",
            "weighted avg       0.99      0.99      0.99       263\n",
            "\n"
          ],
          "name": "stdout"
        }
      ]
    },
    {
      "cell_type": "code",
      "metadata": {
        "colab": {
          "base_uri": "https://localhost:8080/",
          "height": 574
        },
        "id": "j7jTm92_0pUd",
        "outputId": "8c60f67e-5333-4db0-941f-500957719a99"
      },
      "source": [
        "fig, ax = plt.subplots(figsize=(10, 10))\n",
        "plot_confusion_matrix(modelo_xgb, X_teste, y_teste, ax=ax)\n",
        "\n",
        "plt.title('Matriz de Confusão (dados reais/dados preditos)')\n",
        "plt.ylabel('Valores reais',fontsize=14)\n",
        "plt.xlabel('Valores preditos',fontsize=14)\n",
        "plt.show()"
      ],
      "execution_count": null,
      "outputs": [
        {
          "output_type": "display_data",
          "data": {
            "image/png": "[encoded data removed]",
            "text/plain": [
              "<Figure size 720x720 with 2 Axes>"
            ]
          },
          "metadata": {
            "needs_background": "light"
          }
        }
      ]
    },
    {
      "cell_type": "markdown",
      "metadata": {
        "id": "Uhiu5ePYHGN-"
      },
      "source": [
        "## KNeighborsClassifier"
      ]
    },
    {
      "cell_type": "code",
      "metadata": {
        "id": "XzQebr6eHGOG"
      },
      "source": [
        "modelo = KNeighborsClassifier()"
      ],
      "execution_count": null,
      "outputs": []
    },
    {
      "cell_type": "code",
      "metadata": {
        "colab": {
          "base_uri": "https://localhost:8080/"
        },
        "id": "8mokiNFZHGOH",
        "outputId": "dae3c957-d687-4d64-fc15-9501e1b33b31"
      },
      "source": [
        "modelo"
      ],
      "execution_count": null,
      "outputs": [
        {
          "output_type": "execute_result",
          "data": {
            "text/plain": [
              "KNeighborsClassifier(algorithm='auto', leaf_size=30, metric='minkowski',\n",
              "                     metric_params=None, n_jobs=None, n_neighbors=5, p=2,\n",
              "                     weights='uniform')"
            ]
          },
          "metadata": {},
          "execution_count": 41
        }
      ]
    },
    {
      "cell_type": "code",
      "metadata": {
        "id": "oy_L2zdOHGOI"
      },
      "source": [
        "parametros = {'n_neighbors' : [x for x in range(2,20)],\n",
        "              'weights' : ['uniform', 'distance'],\n",
        "              'algorithm': ['auto', 'ball_tree', 'kd_tree', 'brute'],\n",
        "              'metric': ['manhattan', 'chebyshev', 'minkowski'],\n",
        "                  \n",
        "}"
      ],
      "execution_count": null,
      "outputs": []
    },
    {
      "cell_type": "code",
      "metadata": {
        "id": "ij2r02GcHGOI"
      },
      "source": [
        "clf = GridSearchCV(modelo,parametros, scoring= 'roc_auc')"
      ],
      "execution_count": null,
      "outputs": []
    },
    {
      "cell_type": "code",
      "metadata": {
        "colab": {
          "base_uri": "https://localhost:8080/"
        },
        "id": "3sFtBrw-HGOI",
        "outputId": "a21a26e4-a69b-4fd5-bf7c-957e1b221239"
      },
      "source": [
        "clf.fit(X_treino,y_treino)"
      ],
      "execution_count": null,
      "outputs": [
        {
          "output_type": "execute_result",
          "data": {
            "text/plain": [
              "GridSearchCV(cv=None, error_score=nan,\n",
              "             estimator=KNeighborsClassifier(algorithm='auto', leaf_size=30,\n",
              "                                            metric='minkowski',\n",
              "                                            metric_params=None, n_jobs=None,\n",
              "                                            n_neighbors=5, p=2,\n",
              "                                            weights='uniform'),\n",
              "             iid='deprecated', n_jobs=None,\n",
              "             param_grid={'algorithm': ['auto', 'ball_tree', 'kd_tree', 'brute'],\n",
              "                         'metric': ['manhattan', 'chebyshev', 'minkowski'],\n",
              "                         'n_neighbors': [2, 3, 4, 5, 6, 7, 8, 9, 10, 11, 12, 13,\n",
              "                                         14, 15, 16, 17, 18, 19],\n",
              "                         'weights': ['uniform', 'distance']},\n",
              "             pre_dispatch='2*n_jobs', refit=True, return_train_score=False,\n",
              "             scoring='roc_auc', verbose=0)"
            ]
          },
          "metadata": {},
          "execution_count": 49
        }
      ]
    },
    {
      "cell_type": "code",
      "metadata": {
        "colab": {
          "base_uri": "https://localhost:8080/"
        },
        "id": "AAdVwspGHGOJ",
        "outputId": "a6ee2934-c78c-475d-9048-703586b2e03f"
      },
      "source": [
        "clf.best_estimator_"
      ],
      "execution_count": null,
      "outputs": [
        {
          "output_type": "execute_result",
          "data": {
            "text/plain": [
              "KNeighborsClassifier(algorithm='auto', leaf_size=30, metric='manhattan',\n",
              "                     metric_params=None, n_jobs=None, n_neighbors=14, p=2,\n",
              "                     weights='distance')"
            ]
          },
          "metadata": {},
          "execution_count": 50
        }
      ]
    },
    {
      "cell_type": "code",
      "metadata": {
        "colab": {
          "base_uri": "https://localhost:8080/"
        },
        "id": "f0s6FPOWHGOJ",
        "outputId": "05c7e41a-0036-4236-f332-360fb96fe369"
      },
      "source": [
        "clf.best_params_"
      ],
      "execution_count": null,
      "outputs": [
        {
          "output_type": "execute_result",
          "data": {
            "text/plain": [
              "{'algorithm': 'auto',\n",
              " 'metric': 'manhattan',\n",
              " 'n_neighbors': 14,\n",
              " 'weights': 'distance'}"
            ]
          },
          "metadata": {},
          "execution_count": 51
        }
      ]
    },
    {
      "cell_type": "markdown",
      "metadata": {
        "id": "Uabmco9sHGOK"
      },
      "source": [
        "Melhores parâmetros:\n",
        "\n",
        "{'algorithm': 'auto',\n",
        " 'metric': 'manhattan',\n",
        " 'n_neighbors': 14,\n",
        " 'weights': 'distance'}"
      ]
    },
    {
      "cell_type": "code",
      "metadata": {
        "colab": {
          "base_uri": "https://localhost:8080/"
        },
        "id": "JKJWtOrbHGOK",
        "outputId": "1cf967fa-ea2b-4274-829d-5d1d8b74f414"
      },
      "source": [
        "clf.best_score_"
      ],
      "execution_count": null,
      "outputs": [
        {
          "output_type": "execute_result",
          "data": {
            "text/plain": [
              "0.7195410064975283"
            ]
          },
          "metadata": {},
          "execution_count": 52
        }
      ]
    },
    {
      "cell_type": "code",
      "metadata": {
        "id": "O0Ni-JjzHGOK"
      },
      "source": [
        "y_pred = clf.predict(X_teste)"
      ],
      "execution_count": null,
      "outputs": []
    },
    {
      "cell_type": "code",
      "metadata": {
        "colab": {
          "base_uri": "https://localhost:8080/"
        },
        "id": "LSd0X7SAHGOL",
        "outputId": "501682c0-8f92-4788-e408-2f629509a116"
      },
      "source": [
        "print(classification_report(y_teste,y_pred))"
      ],
      "execution_count": null,
      "outputs": [
        {
          "output_type": "stream",
          "text": [
            "              precision    recall  f1-score   support\n",
            "\n",
            "           0       0.63      0.91      0.75        57\n",
            "           1       0.79      0.39      0.52        49\n",
            "\n",
            "    accuracy                           0.67       106\n",
            "   macro avg       0.71      0.65      0.63       106\n",
            "weighted avg       0.71      0.67      0.64       106\n",
            "\n"
          ],
          "name": "stdout"
        }
      ]
    },
    {
      "cell_type": "code",
      "metadata": {
        "colab": {
          "base_uri": "https://localhost:8080/"
        },
        "id": "FCNMi3GCHGOL",
        "outputId": "a5858d04-9beb-4589-80b5-c06e643d4019"
      },
      "source": [
        "modelo = clf.best_estimator_\n",
        "modelo.fit(X_treino, y_treino)\n",
        "y_pred = modelo.predict(X_teste)\n",
        "acur = modelo.score(X_teste, y_teste)\n",
        "print(f\"Acurácia = {round(100*acur, 2)}%\")"
      ],
      "execution_count": null,
      "outputs": [
        {
          "output_type": "stream",
          "text": [
            "Acurácia = 66.98%\n"
          ],
          "name": "stdout"
        }
      ]
    },
    {
      "cell_type": "code",
      "metadata": {
        "colab": {
          "base_uri": "https://localhost:8080/"
        },
        "id": "5qoh5-tmHGOL",
        "outputId": "78d33c30-9c65-476b-f7ff-bfcb154ca691"
      },
      "source": [
        "print(classification_report(y_teste,y_pred))"
      ],
      "execution_count": null,
      "outputs": [
        {
          "output_type": "stream",
          "text": [
            "              precision    recall  f1-score   support\n",
            "\n",
            "           0       0.63      0.91      0.75        57\n",
            "           1       0.79      0.39      0.52        49\n",
            "\n",
            "    accuracy                           0.67       106\n",
            "   macro avg       0.71      0.65      0.63       106\n",
            "weighted avg       0.71      0.67      0.64       106\n",
            "\n"
          ],
          "name": "stdout"
        }
      ]
    },
    {
      "cell_type": "code",
      "metadata": {
        "colab": {
          "base_uri": "https://localhost:8080/"
        },
        "id": "JAIJjxXpHGOM",
        "outputId": "1694c6a9-4891-4bde-9c6d-de3d960b3ed8"
      },
      "source": [
        "print(classification_report(y_treino,modelo.predict(X_treino)))"
      ],
      "execution_count": null,
      "outputs": [
        {
          "output_type": "stream",
          "text": [
            "              precision    recall  f1-score   support\n",
            "\n",
            "           0       1.00      1.00      1.00       132\n",
            "           1       1.00      1.00      1.00       113\n",
            "\n",
            "    accuracy                           1.00       245\n",
            "   macro avg       1.00      1.00      1.00       245\n",
            "weighted avg       1.00      1.00      1.00       245\n",
            "\n"
          ],
          "name": "stdout"
        }
      ]
    },
    {
      "cell_type": "code",
      "metadata": {
        "colab": {
          "base_uri": "https://localhost:8080/",
          "height": 574
        },
        "id": "LwWZw0DTHGOM",
        "outputId": "83501b6e-7df6-498b-8e3a-6f7d297bf1fe"
      },
      "source": [
        "fig, ax = plt.subplots(figsize=(10, 10))\n",
        "plot_confusion_matrix(modelo, X_teste, y_teste, ax=ax)\n",
        "\n",
        "plt.title('Matriz de Confusão (dados reais/dados preditos)')\n",
        "plt.ylabel('Valores reais',fontsize=14)\n",
        "plt.xlabel('Valores preditos',fontsize=14)\n",
        "plt.show()"
      ],
      "execution_count": null,
      "outputs": [
        {
          "output_type": "display_data",
          "data": {
            "image/png": "[encoded data removed]",
            "text/plain": [
              "<Figure size 720x720 with 2 Axes>"
            ]
          },
          "metadata": {
            "needs_background": "light"
          }
        }
      ]
    }
  ]
}